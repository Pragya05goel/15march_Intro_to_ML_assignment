{
 "cells": [
  {
   "cell_type": "markdown",
   "id": "c5cba8c8-e80d-4079-b525-64a432ccef62",
   "metadata": {},
   "source": [
    "# **ASSIGNMENT**"
   ]
  },
  {
   "cell_type": "markdown",
   "id": "cea86e21-6dca-4b9e-a09a-73ab85664ad7",
   "metadata": {},
   "source": [
    "**Q1. Explain the following with an example:**\n",
    "\n",
    "**1.Artificial Intelligence\n",
    "2.Machine Learning\n",
    "3.Deep Learning**"
   ]
  },
  {
   "cell_type": "markdown",
   "id": "fa11c42c-f4f4-40fe-b540-8625a9b367db",
   "metadata": {},
   "source": [
    "Artificial Intelligence:\n",
    "\n",
    "The term \"Artificial Intelligence\" refers to the simulation of human intelligence processes by machines, especially computer systems. It also includes Expert systems, voice recognition, machine vision, and natural language processing (NLP).\n",
    "\n",
    "AI programming focuses on three cognitive aspects, such as learning, reasoning, and self-correction.\n",
    "\n",
    ". Learning Processes\n",
    "\n",
    ".Reasoning Processes\n",
    "\n",
    ".Self-correction Processes\n",
    "\n",
    "The following are the examples of AI-Artificial Intelligence:\n",
    "\n",
    "Google Maps and Ride-Hailing Applications,\n",
    "Face Detection and recognition,\n",
    "Text Editors and Autocorrect,\n",
    "Chatbots,\n",
    "E-Payments,\n",
    "Search and Recommendation algorithms,\n",
    "Digital Assistant,\n",
    "Social media,\n",
    "Healthcare,\n",
    "Gaming,\n",
    "Online Ads-Network,\n",
    "Banking and Finance,\n",
    "Smart Home devices,\n",
    "Security and Surveillance,\n",
    "Smart Keyboard App,\n",
    "Smart Speaker,\n",
    "E-Commerce,\n",
    "Smart Email Apps,\n",
    "Music and Media Streaming Service,\n",
    "Space Exploration\n",
    "\n",
    "Chatbots:\n",
    "\n",
    "Answering a customer's inquiries can take a long time. The use of algorithms to train machines to meet customer needs through chatbots is an artificially intelligent solution to this problem. This allows machines to answer as well as take and track orders.\n",
    "We used Natural Language Processing (NLP) to train chatbots to impersonate customer service agents' conversational approaches. Advanced chatbots do not require complex input formats (such as yes/no questions). They are capable of responding to complex questions that necessitate comprehensive answers. They will appear to be a customer representative, in fact, another example of artificial intelligence (AI). If you give a negative rating to a response, the bot will figure out what went wrong and fix it the next time, ensuring that you get the best possible service.\n",
    "\n",
    "Google Maps and Ride-Hailing Applications:\n",
    "\n",
    "\n",
    "Travelling to a new destination does not require much thought any longer. Rather than relying on confusing address directions, we can now easily open our phone's map app and type in our destination.\n",
    "\n",
    "So how does the app know about the appropriate directions, best way, and even the presence of roadblocks and traffic jams? A few years ago, only GPS (satellite-based navigation) was used as a navigation guide. However, artificial intelligence (AI) now provides users with a much better experience in their unique surroundings.\n",
    "\n",
    "The app algorithm uses machine learning to recall the building's edges that are supplied into the system after the person has manually acknowledged them. This enables the map to provide simple visuals of buildings. Another feature is identifying and understanding handwritten house numbers, which assists travelers in finding the exact house they need. Their outline or handwritten label can also recognize locations that lack formal street signs.\n",
    "\n",
    "The application has been trained to recognize and understand traffic. As a result, it suggests the best way to avoid traffic congestion and bottlenecks. The AI-based algorithm also informs users about the precise distance and time it will take them to arrive at their destination. It has been trained to calculate this based on the traffic situations. Several ride-hailing applications have emerged as a result of the use of similar AI technology. So, whenever you need to book a cab via an app by putting your location on a map, this is how it works.\n",
    "\n",
    "\n",
    "Machine Learning:\n",
    "\n",
    "Machine Learning is a system of computer algorithms that can learn from examples through self-improvement without being explicitly coded by a programmer. Machine learning is a part of artificial intelligence which combines data with statistical tools to predict an output that can be used to make actionable insights.\n",
    "\n",
    "The breakthrough comes with the idea that a machine can singularly learn from the data (i.e., an example) to produce accurate results. Machine learning is closely related to data mining and Bayesian predictive modeling. The machine receives data as input and uses an algorithm to formulate answers.\n",
    "\n",
    "A typical machine learning tasks are to provide a recommendation. For those who have a Netflix account, all recommendations of movies or series are based on the user’s historical data. Tech companies are using unsupervised learning to improve the user experience with personalizing recommendations.\n",
    "\n",
    "Machine Learning uses statistical techniques to make a computer more intelligent, which helps to fetch entire business data and utilize it automatically as per requirement. \n",
    "\n",
    "Example:\n",
    "\n",
    "Ads Recommendation:\n",
    "\n",
    "Nowadays, most people spend multiple hours on google or the internet surfing. And while working on any webpage or website, they get multiples ads on each page. But these ads are different for each user even when two users are using the same internet and on the same location. These ads recommendations are done with the help of machine learning algorithms. These ads recommendations are based on the search history of each user. For example, if one user searches for the Shirt on Amazon or any other e-commerce website, he will get start ads recommendation of shirts after some time.\n",
    "\n",
    "Email & spam filtering:\n",
    "\n",
    "Emails are filtered automatically when we receive any new email, and it is also an example of machine learning. We always receive an important mail in our inbox with the important symbol and spam emails in our spam box, and the technology behind this is Machine learning. Below are some spam filters used by Gmail:\n",
    "\n",
    ".Content Filter\n",
    "\n",
    ".Header filter\n",
    "\n",
    ".General blacklists filter\n",
    "\n",
    ".Rules-based filters\n",
    "\n",
    ".Permission filters\n",
    "\n",
    "Some machine learning algorithms that are used in email spam filtering and malware detection are Multi-Layer Perceptron, Decision tree, and Naïve Bayes classifier.\n",
    "\n",
    "Deep Learning:\n",
    "\n",
    "Deep learning is a machine learning technique that teaches computers to do what comes naturally to humans: learn by example. Deep learning is a key technology behind driverless cars, enabling them to recognize a stop sign, or to distinguish a pedestrian from a lamppost. It is the key to voice control in consumer devices like phones, tablets, TVs, and hands-free speakers. Deep learning is getting lots of attention lately and for good reason. It’s achieving results that were not possible before.\n",
    "\n",
    "In deep learning, a computer model learns to perform classification tasks directly from images, text, or sound. Deep learning models can achieve state-of-the-art accuracy, sometimes exceeding human-level performance. Models are trained by using a large set of labeled data and neural network architectures that contain many layers.\n",
    "\n",
    "Examples of Deep Learning:\n",
    "\n",
    ".Deep learning applications are used in industries from automated driving to medical devices.\n",
    "\n",
    ".Automated Driving: Automotive researchers are using deep learning to automatically detect objects such as stop signs and traffic lights. In addition, deep learning is used to detect pedestrians, which helps decrease accidents.\n",
    "\n",
    ".Aerospace and Defense: Deep learning is used to identify objects from satellites that locate areas of interest, and identify safe or unsafe zones for troops.\n",
    "\n",
    ".Medical Research: Cancer researchers are using deep learning to automatically detect cancer cells. Teams at UCLA built an advanced microscope that yields a high-dimensional data set used to train a deep learning application to accurately identify cancer cells."
   ]
  },
  {
   "cell_type": "markdown",
   "id": "63e3b2be-e368-4c10-91ff-51d48ad4df32",
   "metadata": {},
   "source": [
    "**Q2- What is supervised learning? List some examples of supervised learning.**"
   ]
  },
  {
   "cell_type": "markdown",
   "id": "93a014fc-0833-4bd0-ab4b-a53c034901f0",
   "metadata": {},
   "source": [
    "Supervised learning is the types of machine learning in which machines are trained using well \"labelled\" training data, and on basis of that data, machines predict the output. The labelled data means some input data is already tagged with the correct output.\n",
    "\n",
    "In supervised learning, the training data provided to the machines work as the supervisor that teaches the machines to predict the output correctly. It applies the same concept as a student learns in the supervision of the teacher.\n",
    "\n",
    "Supervised learning is a process of providing input data as well as correct output data to the machine learning model. The aim of a supervised learning algorithm is to find a mapping function to map the input variable(x) with the output variable(y).\n",
    "\n",
    "In the real-world, supervised learning can be used for Risk Assessment, Image classification, Fraud Detection, spam filtering, etc."
   ]
  },
  {
   "cell_type": "markdown",
   "id": "93dca7e2-1c43-4ee6-a1c5-bf158dd35a1d",
   "metadata": {},
   "source": [
    "**Q3- What is unsupervised learning? List some examples of unsupervised learning.**"
   ]
  },
  {
   "cell_type": "markdown",
   "id": "599c656f-aed9-4cc9-b1fb-119eaab59d24",
   "metadata": {},
   "source": [
    "Unsupervised learning is the training of a machine using information that is neither classified nor labeled and allowing the algorithm to act on that information without guidance. Here the task of the machine is to group unsorted information according to similarities, patterns, and differences without any prior training of data. \n",
    "\n",
    "Unlike supervised learning, no teacher is provided that means no training will be given to the machine. Therefore the machine is restricted to find the hidden structure in unlabeled data by itself. \n",
    "For instance, suppose it is given an image having both dogs and cats which it has never seen. \n",
    "\n",
    "Thus the machine has no idea about the features of dogs and cats so we can’t categorize it as ‘dogs and cats ‘. But it can categorize them according to their similarities, patterns, and differences, i.e., we can easily categorize the above picture into two parts. The first may contain all pics having dogs in them and the second part may contain all pics having cats in them. Here you didn’t learn anything before, which means no training data or examples. \n",
    "\n",
    "It allows the model to work on its own to discover patterns and information that was previously undetected. It mainly deals with unlabelled data.\n",
    "\n",
    "Examples:\n",
    "\n",
    ".Organize computing clusters − The geographic areas of servers is determined on the basis of clustering of web requests received from a specific area of the world. The local server will include only the data frequently created by people of that region.\n",
    "\n",
    ".Social network analysis − Social network analysis is conducted to make clusters of friends depends on the frequency of connection between them. Such analysis reveals the links between the users of some social networking website."
   ]
  },
  {
   "cell_type": "markdown",
   "id": "d9eeac76-f2de-4ce1-be13-9f54c162244d",
   "metadata": {},
   "source": [
    "**Q4- What is the difference between AI, ML, DL, and DS?**"
   ]
  },
  {
   "cell_type": "markdown",
   "id": "86398513-9652-473f-b051-b3d3c71cbc3f",
   "metadata": {},
   "source": [
    "🔹Artificial Intelligence (AI) enables machines to think by understanding, learning from the data, and taking decisions based on patterns hidden in the data or make inferences that would otherwise be very difficult for humans to make manually. The end goal of using ML or DL is to create an AI application or machine as smart as humans.\n",
    "\n",
    "🔹Machine Learning (ML) is a subset of AI; it provides us statistical tools/techniques like Supervised, Unsupervised, and Reinforcement learning to explore and analyze the data.\n",
    "\n",
    "🔹Deep Learning (DL) is further a subset of ML, and the main idea behind it is to make machines learn by mimicking the human brain. Here, we create a multi neural network architecture with the help of different techniques like ANN, CNN, and RNN.\n",
    "\n",
    "🔹Data Science (DS) is basically drawing insights from structured and unstructured data either by using ML or DL or without these techniques. We can even use different visualization tools, statistics, and probability to gain these insights."
   ]
  },
  {
   "cell_type": "markdown",
   "id": "707d34f0-aebc-442c-aa14-3e0bdb081c67",
   "metadata": {},
   "source": [
    "**Q5- What are the main differences between supervised, unsupervised, and semi-supervised learning?**"
   ]
  },
  {
   "cell_type": "markdown",
   "id": "62ca2fb0-8a9a-458e-808a-d3ba39ad204e",
   "metadata": {},
   "source": [
    "The main differences between supervised, unsupervised, and semi-supervised learning are as follows:\n",
    "\n",
    "Supervised Learning:\n",
    "1. Labeled Data: In supervised learning, the training data consists of labeled examples, where each example is paired with a corresponding target or output label.\n",
    "2. Goal: The goal of supervised learning is to learn a mapping or relationship between the input features and the target labels.\n",
    "3. Training Process: Supervised learning algorithms learn from the labeled data by finding patterns, making predictions, and minimizing the error between predicted and actual labels.\n",
    "4. Examples: Classification and regression problems are common examples of supervised learning tasks.\n",
    "5. Evaluation: The performance of supervised learning models is typically evaluated using metrics such as accuracy, precision, recall, or mean squared error.\n",
    "\n",
    "Unsupervised Learning:\n",
    "1. Unlabeled Data: In unsupervised learning, the training data does not have any target labels or output information. It consists of only input features.\n",
    "2. Goal: The goal of unsupervised learning is to discover hidden patterns, structures, or relationships in the data without any specific guidance.\n",
    "3. Training Process: Unsupervised learning algorithms explore the data to identify clusters, associations, or dimensions that capture the underlying structure of the data.\n",
    "4. Examples: Clustering, dimensionality reduction, and anomaly detection are common examples of unsupervised learning tasks.\n",
    "5. Evaluation: The evaluation of unsupervised learning models is often subjective and relies on domain knowledge or visual inspection of results.\n",
    "\n",
    "Semi-Supervised Learning:\n",
    "1. Combination of Labeled and Unlabeled Data: Semi-supervised learning uses a combination of labeled and unlabeled data for training.\n",
    "2. Goal: The goal of semi-supervised learning is to leverage the information present in both labeled and unlabeled data to improve the learning process.\n",
    "3. Training Process: Semi-supervised learning algorithms utilize the unlabeled data to capture the underlying distribution or structure of the data, and the labeled data is used to guide the learning process or fine-tune the models.\n",
    "4. Examples: Semi-supervised learning is often applied when labeled data is limited or expensive to obtain, and there is a large amount of unlabeled data available.\n",
    "5. Evaluation: The evaluation of semi-supervised learning models can be similar to supervised learning, using appropriate metrics for the specific task.\n",
    "\n",
    "In summary, supervised learning relies on labeled data with known target labels, unsupervised learning discovers patterns in unlabeled data, and semi-supervised learning combines labeled and unlabeled data for improved learning."
   ]
  },
  {
   "cell_type": "markdown",
   "id": "e58e34b4-5231-41a4-8ffe-15685ad6e23d",
   "metadata": {},
   "source": [
    "**Q6- What is train, test and validation split? Explain the importance of each term.**"
   ]
  },
  {
   "cell_type": "markdown",
   "id": "56c9d247-89d1-4a89-8265-de1311cd1efa",
   "metadata": {},
   "source": [
    "In machine learning, the train-test-validation split refers to the division of a dataset into separate subsets for training, testing, and validation purposes. Here's an explanation of each term and their importance:\n",
    "\n",
    "1. Training Set:\n",
    "The training set is a subset of the dataset used to train or fit the machine learning model. It contains labeled examples where both the input features and their corresponding target labels are known. The model learns from this data by adjusting its parameters or weights to minimize the error between predicted and actual labels. The larger the training set, the more information the model can learn from, potentially leading to better generalization and performance.\n",
    "\n",
    "2. Test Set:\n",
    "The test set is another subset of the dataset that is used to evaluate the performance of the trained model. It serves as an unbiased estimate of the model's performance on unseen data. The test set should be representative of real-world data and should not be used during the model training process to avoid overfitting. By evaluating the model on the test set, you can assess its generalization ability and estimate how well it will perform on new, unseen data.\n",
    "\n",
    "3. Validation Set:\n",
    "The validation set is an optional subset of the dataset that is used for model selection and hyperparameter tuning. It helps in assessing the performance of different models or variations of a single model. The validation set is typically used to fine-tune hyperparameters, such as the learning rate or regularization strength, by comparing the performance of different configurations. This helps to choose the best-performing model or set of hyperparameters before evaluating it on the test set.\n",
    "\n",
    "Importance:\n",
    "- Training set: The training set is crucial for model learning and parameter estimation. It provides the basis for the model to understand patterns and relationships between the input features and target labels. A well-representative and diverse training set can lead to better model generalization and predictive accuracy.\n",
    "\n",
    "- Test set: The test set serves as an independent benchmark to assess the model's performance on unseen data. It helps to gauge how well the model is likely to perform in real-world scenarios. By keeping the test set separate during training, it provides an unbiased evaluation and prevents overfitting, which occurs when a model performs well on the training data but poorly on new data.\n",
    "\n",
    "- Validation set: The validation set is essential for model selection and hyperparameter tuning. It allows for the comparison and fine-tuning of different models or variations of a single model. By evaluating models on the validation set, you can make informed decisions about which model or hyperparameter settings yield the best performance. This helps to improve the model's generalization and avoids overfitting to the training data.\n",
    "\n",
    "Properly splitting the dataset into train, test, and validation sets is crucial for reliable model evaluation, selection, and performance estimation. It helps ensure that the model is not biased by the evaluation data and provides a realistic estimate of its performance on unseen data."
   ]
  },
  {
   "cell_type": "markdown",
   "id": "059ccf0b-b95d-4a69-b372-eb2dc4a7ac2e",
   "metadata": {},
   "source": [
    "**Q7- How can unsupervised learning be used in anomaly detection?**"
   ]
  },
  {
   "cell_type": "markdown",
   "id": "b61842db-0089-4643-8020-9c8344f78efd",
   "metadata": {},
   "source": [
    "Unsupervised learning can be used in anomaly detection by leveraging its ability to discover patterns, structures, or deviations from normal behavior in unlabeled data. Here's how unsupervised learning techniques can be applied in anomaly detection:\n",
    "\n",
    "1. Clustering-based Approaches:\n",
    "Unsupervised clustering algorithms can be used to group similar instances together based on their feature similarity. The idea is that normal instances will form well-defined clusters, while anomalies will be distant or not clearly aligned with any cluster. By identifying instances that do not belong to any cluster or are distant from all clusters, anomalies can be detected.\n",
    "\n",
    "2. Density-based Approaches:\n",
    "Unsupervised density-based algorithms, such as DBSCAN (Density-Based Spatial Clustering of Applications with Noise), can identify regions of high data density in the feature space. Instances that fall into low-density regions or isolated from high-density regions are considered potential anomalies.\n",
    "\n",
    "3. Dimensionality Reduction Techniques:\n",
    "Unsupervised dimensionality reduction techniques, such as Principal Component Analysis (PCA) or Autoencoders, can be used to transform high-dimensional data into a lower-dimensional representation. Anomalies often exhibit different characteristics compared to normal instances, leading to differences in the low-dimensional representation. By identifying instances that deviate significantly from the majority of instances in the reduced space, anomalies can be detected.\n",
    "\n",
    "4. Reconstruction-based Approaches:\n",
    "Unsupervised learning models like Autoencoders can be trained on normal instances to learn a compressed representation of the data. The model is then used to reconstruct the input instances. Anomalies, being different from normal instances, tend to have higher reconstruction errors. By setting a threshold on the reconstruction error, instances with values above the threshold can be flagged as anomalies.\n",
    "\n",
    "5. Outlier Detection:\n",
    "Unsupervised outlier detection methods, such as the Isolation Forest algorithm, aim to directly identify anomalies in the data without assuming any specific distribution. These techniques leverage the fact that anomalies are often sparser or dissimilar compared to normal instances and can be isolated more easily.\n",
    "\n",
    "It's important to note that unsupervised anomaly detection approaches have limitations. They rely solely on the inherent patterns or characteristics present in the data without the guidance of labeled anomalies. As a result, they may struggle with identifying rare or novel anomalies that significantly differ from the majority of instances. Human expertise and domain knowledge are often required to validate and interpret the detected anomalies.\n",
    "\n",
    "Therefore, unsupervised learning techniques in anomaly detection leverage patterns, structures, and deviations in unlabeled data to identify instances that are significantly different from normal behavior. These approaches can be valuable in scenarios where labeled anomalies are scarce or unavailable."
   ]
  },
  {
   "cell_type": "markdown",
   "id": "cf366f0b-bb00-4f90-9cdf-557012a5e08a",
   "metadata": {},
   "source": [
    "**Q8- List down some commonly used supervised learning algorithms and unsupervised learning\n",
    "algorithms.**"
   ]
  },
  {
   "cell_type": "markdown",
   "id": "d3912a5f-1064-44ff-8b0f-b9a91a475b7b",
   "metadata": {},
   "source": [
    "ome commonly used supervised learning algorithms and unsupervised learning algorithms are:\n",
    "\n",
    "Supervised Learning Algorithms:\n",
    "1. Linear Regression\n",
    "2. Logistic Regression\n",
    "3. Decision Trees\n",
    "4. Random Forests\n",
    "5. Support Vector Machines (SVM)\n",
    "6. Naive Bayes\n",
    "7. K-Nearest Neighbors (KNN)\n",
    "8. Gradient Boosting algorithms (e.g., XGBoost, LightGBM)\n",
    "9. Neural Networks (e.g., Multilayer Perceptron)\n",
    "10. Ensemble methods (e.g., AdaBoost, Bagging)\n",
    "\n",
    "Unsupervised Learning Algorithms:\n",
    "1. K-Means Clustering\n",
    "2. Hierarchical Clustering\n",
    "3. DBSCAN (Density-Based Spatial Clustering of Applications with Noise)\n",
    "4. Gaussian Mixture Models (GMM)\n",
    "5. Principal Component Analysis (PCA)\n",
    "6. t-Distributed Stochastic Neighbor Embedding (t-SNE)\n",
    "7. Association Rule Mining (e.g., Apriori)\n",
    "8. Isolation Forest\n",
    "9. Autoencoders\n",
    "10. Generative Adversarial Networks (GANs)\n",
    "\n"
   ]
  },
  {
   "cell_type": "markdown",
   "id": "46d59305-6af5-47d7-9beb-aeb81172ba2a",
   "metadata": {},
   "source": [
    "---"
   ]
  },
  {
   "cell_type": "code",
   "execution_count": null,
   "id": "6b9bdaee-e66c-421f-8c52-5b95c2de701a",
   "metadata": {},
   "outputs": [],
   "source": []
  }
 ],
 "metadata": {
  "kernelspec": {
   "display_name": "Python 3 (ipykernel)",
   "language": "python",
   "name": "python3"
  },
  "language_info": {
   "codemirror_mode": {
    "name": "ipython",
    "version": 3
   },
   "file_extension": ".py",
   "mimetype": "text/x-python",
   "name": "python",
   "nbconvert_exporter": "python",
   "pygments_lexer": "ipython3",
   "version": "3.10.8"
  }
 },
 "nbformat": 4,
 "nbformat_minor": 5
}
